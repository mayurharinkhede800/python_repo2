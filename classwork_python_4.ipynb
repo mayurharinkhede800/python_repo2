{
 "cells": [
  {
   "cell_type": "code",
   "execution_count": null,
   "id": "be19f721-9372-4909-8c3b-4a02c2dbcc25",
   "metadata": {},
   "outputs": [],
   "source": [
    "'''\n",
    "- upper\n",
    "\n",
    "- lower\n",
    "\n",
    "- title\n",
    "\n",
    "- capitalize\n",
    "\n",
    "- casefold\n",
    "\n",
    "- center\n",
    "\n",
    "- rstrip\n",
    "\n",
    "- lstrip\n",
    "\n",
    "- strip\n",
    "\n",
    "- startswith\n",
    "\n",
    "- endswith '''"
   ]
  },
  {
   "cell_type": "code",
   "execution_count": 1,
   "id": "394f2367-c9f7-4fba-93de-15c390f08b8f",
   "metadata": {},
   "outputs": [
    {
     "data": {
      "text/plain": [
       "'PYHTON IS EASY'"
      ]
     },
     "execution_count": 1,
     "metadata": {},
     "output_type": "execute_result"
    }
   ],
   "source": [
    "str1 = 'pyhton is easy'\n",
    "str1.upper()"
   ]
  },
  {
   "cell_type": "code",
   "execution_count": 2,
   "id": "3112cec4-674d-4eb5-8f6c-57e3eb1e6183",
   "metadata": {},
   "outputs": [
    {
     "data": {
      "text/plain": [
       "'pyhton is easy'"
      ]
     },
     "execution_count": 2,
     "metadata": {},
     "output_type": "execute_result"
    }
   ],
   "source": [
    "str1.lower()"
   ]
  },
  {
   "cell_type": "code",
   "execution_count": 3,
   "id": "dbe25aaa-1a7c-4899-8192-68af96253fa0",
   "metadata": {},
   "outputs": [
    {
     "data": {
      "text/plain": [
       "'Pyhton is easy'"
      ]
     },
     "execution_count": 3,
     "metadata": {},
     "output_type": "execute_result"
    }
   ],
   "source": [
    "str1.capitalize()"
   ]
  },
  {
   "cell_type": "code",
   "execution_count": 4,
   "id": "f08d9c7c-0448-4792-92a9-a34662b1ae34",
   "metadata": {},
   "outputs": [
    {
     "data": {
      "text/plain": [
       "'pyhton is easy'"
      ]
     },
     "execution_count": 4,
     "metadata": {},
     "output_type": "execute_result"
    }
   ],
   "source": [
    "str1.casefold()"
   ]
  },
  {
   "cell_type": "code",
   "execution_count": 5,
   "id": "433ccd76-9222-4335-bcd6-6b85f9e98934",
   "metadata": {},
   "outputs": [
    {
     "data": {
      "text/plain": [
       "'Pyhton Is Easy'"
      ]
     },
     "execution_count": 5,
     "metadata": {},
     "output_type": "execute_result"
    }
   ],
   "source": [
    "str1.title()"
   ]
  },
  {
   "cell_type": "code",
   "execution_count": 10,
   "id": "80a0b290-8865-4b90-8329-97a059a5f4f9",
   "metadata": {},
   "outputs": [
    {
     "data": {
      "text/plain": [
       "'   pyhton is easy   '"
      ]
     },
     "execution_count": 10,
     "metadata": {},
     "output_type": "execute_result"
    }
   ],
   "source": [
    "str1.center(20)"
   ]
  },
  {
   "cell_type": "code",
   "execution_count": 11,
   "id": "0f2a130c-28ee-4ff0-a457-1aecb1ec3549",
   "metadata": {},
   "outputs": [
    {
     "data": {
      "text/plain": [
       "'***pyhton is easy***'"
      ]
     },
     "execution_count": 11,
     "metadata": {},
     "output_type": "execute_result"
    }
   ],
   "source": [
    "str1.center(20,'*')"
   ]
  },
  {
   "cell_type": "code",
   "execution_count": 14,
   "id": "b6a57eda-8cd0-4be3-9873-439eeb5f87fa",
   "metadata": {},
   "outputs": [
    {
     "data": {
      "text/plain": [
       "('   python    ', 'python', 'python    ', '   python')"
      ]
     },
     "execution_count": 14,
     "metadata": {},
     "output_type": "execute_result"
    }
   ],
   "source": [
    "str2 = '   python    '\n",
    "str2 ,str2.strip(),str2.lstrip(),str2.rstrip()"
   ]
  },
  {
   "cell_type": "code",
   "execution_count": 18,
   "id": "75e2e97a-218f-4492-b916-551dfa5955bf",
   "metadata": {},
   "outputs": [
    {
     "data": {
      "text/plain": [
       "('   python***', 'python', '   python', 'python***')"
      ]
     },
     "execution_count": 18,
     "metadata": {},
     "output_type": "execute_result"
    }
   ],
   "source": [
    "str3 = '   python***'\n",
    "str3,str3.strip().strip('*'),str3.rstrip('*'),str3.lstrip()"
   ]
  },
  {
   "cell_type": "code",
   "execution_count": 62,
   "id": "1c9579ed-8ddc-4733-b097-a8c9c036060b",
   "metadata": {},
   "outputs": [
    {
     "data": {
      "text/plain": [
       "True"
      ]
     },
     "execution_count": 62,
     "metadata": {},
     "output_type": "execute_result"
    }
   ],
   "source": [
    "str4 = 'python is very good language'\n",
    "str4.startswith('python',0,6)"
   ]
  },
  {
   "cell_type": "code",
   "execution_count": 63,
   "id": "12c7306f-7773-4537-8b23-3b013f39ee0f",
   "metadata": {},
   "outputs": [
    {
     "data": {
      "text/plain": [
       "True"
      ]
     },
     "execution_count": 63,
     "metadata": {},
     "output_type": "execute_result"
    }
   ],
   "source": [
    "str4 = 'python is very good language'\n",
    "str4.startswith('is',7,28)"
   ]
  },
  {
   "cell_type": "code",
   "execution_count": 61,
   "id": "30e38c5e-ed5b-4c68-968a-a2a2230f89af",
   "metadata": {},
   "outputs": [
    {
     "data": {
      "text/plain": [
       "False"
      ]
     },
     "execution_count": 61,
     "metadata": {},
     "output_type": "execute_result"
    }
   ],
   "source": [
    "str5 = 'python is very good language'\n",
    "str5.endswith('language',8,28)"
   ]
  },
  {
   "cell_type": "code",
   "execution_count": 57,
   "id": "8c37aa71-8540-47bf-b821-ae87d87da950",
   "metadata": {},
   "outputs": [
    {
     "data": {
      "text/plain": [
       "True"
      ]
     },
     "execution_count": 57,
     "metadata": {},
     "output_type": "execute_result"
    }
   ],
   "source": [
    "str5 = 'python is very good language'\n",
    "str5.endswith('language',1,28)"
   ]
  },
  {
   "cell_type": "code",
   "execution_count": null,
   "id": "103fe176-ef5d-48f9-9d02-91e93b2ad395",
   "metadata": {},
   "outputs": [],
   "source": []
  }
 ],
 "metadata": {
  "kernelspec": {
   "display_name": "Python 3 (ipykernel)",
   "language": "python",
   "name": "python3"
  },
  "language_info": {
   "codemirror_mode": {
    "name": "ipython",
    "version": 3
   },
   "file_extension": ".py",
   "mimetype": "text/x-python",
   "name": "python",
   "nbconvert_exporter": "python",
   "pygments_lexer": "ipython3",
   "version": "3.12.7"
  }
 },
 "nbformat": 4,
 "nbformat_minor": 5
}
