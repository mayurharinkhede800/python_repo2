{
 "cells": [
  {
   "cell_type": "code",
   "execution_count": null,
   "id": "e19c10e7-77f7-4eeb-80bb-149f1ea577c5",
   "metadata": {},
   "outputs": [],
   "source": []
  },
  {
   "cell_type": "code",
   "execution_count": 3,
   "id": "c42cd01f-8552-4abf-b8a4-7342e21b8b4d",
   "metadata": {},
   "outputs": [
    {
     "name": "stdout",
     "output_type": "stream",
     "text": [
      "2\n",
      "6\n",
      "10\n"
     ]
    }
   ],
   "source": [
    "# Q4) write a progarm to find the indexes of 'a' in a given string\n",
    "# str1='ola ola ola'\n",
    "\n",
    "str1='ola ola ola'\n",
    "for i in range(len(str1)):\n",
    "    if str1[i]=='a':\n",
    "        print(i)"
   ]
  },
  {
   "cell_type": "code",
   "execution_count": 4,
   "id": "aea92400-1a1e-466b-9412-d9e3026e8796",
   "metadata": {},
   "outputs": [
    {
     "name": "stdout",
     "output_type": "stream",
     "text": [
      "18\n"
     ]
    }
   ],
   "source": [
    "# Q5) write a program to find the sum of all indexes of 'a' in a given string\n",
    "# str1='ola ola ola'\n",
    "str1='ola ola ola'\n",
    "s = 0\n",
    "for i in range(len(str1)):\n",
    "    if str1[i]=='a':\n",
    "        s = s + i\n",
    "print(s)"
   ]
  },
  {
   "cell_type": "code",
   "execution_count": 6,
   "id": "3827acbf-8f5f-45cc-b460-52e6a18af1de",
   "metadata": {},
   "outputs": [
    {
     "name": "stdout",
     "output_type": "stream",
     "text": [
      "3\n"
     ]
    }
   ],
   "source": [
    "# Q6) write a progarm to find the number of 'a' in a given string\n",
    "# str1='ola ola ola'\n",
    "\n",
    "str1='ola ola ola'\n",
    "c = 0\n",
    "for i in str1:\n",
    "    if i =='a':\n",
    "        c = c + 1\n",
    "print(c)"
   ]
  },
  {
   "cell_type": "code",
   "execution_count": 10,
   "id": "c756fa17-d5c3-4918-8c87-683eae14926d",
   "metadata": {},
   "outputs": [
    {
     "name": "stdout",
     "output_type": "stream",
     "text": [
      "a\n",
      "i\n",
      "o\n",
      "a\n",
      "e\n",
      "o\n",
      "u\n",
      "7\n"
     ]
    }
   ],
   "source": [
    "# Q7) write a progarm to find the vowels and its count in a given string\n",
    "# str1='hai how are you'\n",
    "\n",
    "str1='hai how are you'\n",
    "s1 = 'aeiou'\n",
    "c = 0\n",
    "for i in str1:\n",
    "    if i in s1:\n",
    "        print(i)\n",
    "        c = c + 1\n",
    "print(c)"
   ]
  },
  {
   "cell_type": "code",
   "execution_count": 16,
   "id": "18b91753-411e-4462-ac86-aee3647f9e59",
   "metadata": {},
   "outputs": [
    {
     "name": "stdout",
     "output_type": "stream",
     "text": [
      "a\n",
      "e\n"
     ]
    }
   ],
   "source": [
    "# Q8) write a progarm to find the vowels which are repaeting then print only\n",
    "# one time\n",
    "# example: helleo\n",
    "# e is coming two times but we want to print only one time\n",
    "\n",
    "str1='aaaaeeeaaaaeee'\n",
    "s1 = ''\n",
    "for i in str1:\n",
    "    if i in 'aeiou'and  i not in s1:\n",
    "        print(i)\n",
    "        s1= s1 + i"
   ]
  },
  {
   "cell_type": "code",
   "execution_count": null,
   "id": "7c142d20-7d74-4862-958e-e9bc24ac791a",
   "metadata": {},
   "outputs": [],
   "source": []
  }
 ],
 "metadata": {
  "kernelspec": {
   "display_name": "Python 3 (ipykernel)",
   "language": "python",
   "name": "python3"
  },
  "language_info": {
   "codemirror_mode": {
    "name": "ipython",
    "version": 3
   },
   "file_extension": ".py",
   "mimetype": "text/x-python",
   "name": "python",
   "nbconvert_exporter": "python",
   "pygments_lexer": "ipython3",
   "version": "3.12.7"
  }
 },
 "nbformat": 4,
 "nbformat_minor": 5
}
